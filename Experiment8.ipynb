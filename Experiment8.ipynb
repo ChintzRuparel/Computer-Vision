{
  "nbformat": 4,
  "nbformat_minor": 0,
  "metadata": {
    "colab": {
      "provenance": [],
      "authorship_tag": "ABX9TyN0GoDNYhWjzuBuRYOo7CCJ",
      "include_colab_link": true
    },
    "kernelspec": {
      "name": "python3",
      "display_name": "Python 3"
    },
    "language_info": {
      "name": "python"
    }
  },
  "cells": [
    {
      "cell_type": "markdown",
      "metadata": {
        "id": "view-in-github",
        "colab_type": "text"
      },
      "source": [
        "<a href=\"https://colab.research.google.com/github/ChintzRuparel/Computer-Vision/blob/main/Experiment8.ipynb\" target=\"_parent\"><img src=\"https://colab.research.google.com/assets/colab-badge.svg\" alt=\"Open In Colab\"/></a>"
      ]
    },
    {
      "cell_type": "markdown",
      "source": [
        "## Experiment 4\n",
        "\n",
        "Name: Chintan Ruparel\n",
        "\n",
        "Roll no :C-086\n",
        "\n",
        "Aim: To detect corners in the given image window.png using harris corner detector."
      ],
      "metadata": {
        "id": "IBET5sGDrtHr"
      }
    },
    {
      "cell_type": "code",
      "execution_count": null,
      "metadata": {
        "id": "pEphH2HDrLac"
      },
      "outputs": [],
      "source": []
    }
  ]
}