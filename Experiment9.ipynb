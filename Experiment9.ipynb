{
  "nbformat": 4,
  "nbformat_minor": 0,
  "metadata": {
    "colab": {
      "provenance": [],
      "authorship_tag": "ABX9TyNU4jT2ZOo1XUrkQsonXoTw",
      "include_colab_link": true
    },
    "kernelspec": {
      "name": "python3",
      "display_name": "Python 3"
    },
    "language_info": {
      "name": "python"
    }
  },
  "cells": [
    {
      "cell_type": "markdown",
      "metadata": {
        "id": "view-in-github",
        "colab_type": "text"
      },
      "source": [
        "<a href=\"https://colab.research.google.com/github/ChintzRuparel/Computer-Vision/blob/main/Experiment9.ipynb\" target=\"_parent\"><img src=\"https://colab.research.google.com/assets/colab-badge.svg\" alt=\"Open In Colab\"/></a>"
      ]
    },
    {
      "cell_type": "markdown",
      "source": [
        "Name - Chintan N Ruparel\n",
        "\n",
        "Roll No. -  C086\n",
        "\n",
        "Division - C\n",
        "\n",
        "\n",
        "---\n",
        "\n",
        "\n",
        "\n",
        "# Aim - To use GMM to track an object in the given video."
      ],
      "metadata": {
        "id": "bHG5LblRlLeH"
      }
    },
    {
      "cell_type": "code",
      "execution_count": 4,
      "metadata": {
        "id": "-YFQcQeuj3fo"
      },
      "outputs": [],
      "source": [
        "#For mathematical caculations.\n",
        "import numpy as np\n",
        "\n",
        "#To plot the image.\n",
        "import matplotlib.pyplot as plt\n",
        "\n",
        "#Computer vision version 2.\n",
        "import cv2\n",
        "\n",
        "from sklearn.mixture import  GaussianMixture\n",
        "\n",
        "from skimage.color import rgb2gray"
      ]
    },
    {
      "cell_type": "code",
      "source": [
        "cap=cv2.VideoCapture('/content/slow_traffic_small.mp4')\n",
        "frames=[]\n",
        "frame_count=0\n",
        "while True:\n",
        "  ret,frame=cap.read()\n",
        "  if frame is not None :\n",
        "    frame=cv2.resize(frame,(150,150))\n",
        "    frames.append(frame)\n",
        "    frame_count=frame_count+1\n",
        "  else:\n",
        "    break"
      ],
      "metadata": {
        "id": "LLxdI6Xwmy0k"
      },
      "execution_count": 5,
      "outputs": []
    }
  ]
}