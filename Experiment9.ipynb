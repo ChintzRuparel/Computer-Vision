{
  "nbformat": 4,
  "nbformat_minor": 0,
  "metadata": {
    "colab": {
      "provenance": [],
      "authorship_tag": "ABX9TyMKUxPNTN9av13JfTiT1OPO",
      "include_colab_link": true
    },
    "kernelspec": {
      "name": "python3",
      "display_name": "Python 3"
    },
    "language_info": {
      "name": "python"
    }
  },
  "cells": [
    {
      "cell_type": "markdown",
      "metadata": {
        "id": "view-in-github",
        "colab_type": "text"
      },
      "source": [
        "<a href=\"https://colab.research.google.com/github/ChintzRuparel/Computer-Vision/blob/main/Experiment9.ipynb\" target=\"_parent\"><img src=\"https://colab.research.google.com/assets/colab-badge.svg\" alt=\"Open In Colab\"/></a>"
      ]
    },
    {
      "cell_type": "markdown",
      "source": [
        "Name - Chintan N Ruparel\n",
        "\n",
        "Roll No. -  C086\n",
        "\n",
        "Division - C\n",
        "\n",
        "\n",
        "---\n",
        "\n",
        "\n",
        "\n",
        "# Aim - To use GMM to track an object in the given video."
      ],
      "metadata": {
        "id": "bHG5LblRlLeH"
      }
    },
    {
      "cell_type": "code",
      "execution_count": 6,
      "metadata": {
        "id": "-YFQcQeuj3fo"
      },
      "outputs": [],
      "source": [
        "#For mathematical caculations.\n",
        "import numpy as np\n",
        "\n",
        "#To plot the image.\n",
        "import matplotlib.pyplot as plt\n",
        "\n",
        "#Computer vision version 2.\n",
        "import cv2\n",
        "\n",
        "from sklearn.mixture import  GaussianMixture\n",
        "\n",
        "from skimage.color import rgb2gray"
      ]
    },
    {
      "cell_type": "code",
      "source": [
        "cap=cv2.VideoCapture('/content/slow_traffic_small.mp4')\n",
        "frames=[]\n",
        "frame_count=0\n",
        "while True:\n",
        "  ret,frame=cap.read()\n",
        "  if frame is not None :\n",
        "    frame=cv2.resize(frame,(150,150))\n",
        "    frames.append(frame)\n",
        "    frame_count=frame_count+1\n",
        "  else:\n",
        "    break"
      ],
      "metadata": {
        "id": "LLxdI6Xwmy0k"
      },
      "execution_count": 7,
      "outputs": []
    },
    {
      "cell_type": "code",
      "source": [
        "len(frames)"
      ],
      "metadata": {
        "colab": {
          "base_uri": "https://localhost:8080/"
        },
        "id": "FyR6FnOhoE_I",
        "outputId": "6600b887-fc1e-4a62-cd58-6db36764893a"
      },
      "execution_count": 9,
      "outputs": [
        {
          "output_type": "execute_result",
          "data": {
            "text/plain": [
              "914"
            ]
          },
          "metadata": {},
          "execution_count": 9
        }
      ]
    },
    {
      "cell_type": "code",
      "source": [
        "frames=np.array(frames)\n"
      ],
      "metadata": {
        "id": "PMm-4pRRoV0t"
      },
      "execution_count": 10,
      "outputs": []
    }
  ]
}