{
  "nbformat": 4,
  "nbformat_minor": 0,
  "metadata": {
    "colab": {
      "provenance": [],
      "authorship_tag": "ABX9TyPyEadL5Jn8MenUciHvDo66",
      "include_colab_link": true
    },
    "kernelspec": {
      "name": "python3",
      "display_name": "Python 3"
    },
    "language_info": {
      "name": "python"
    }
  },
  "cells": [
    {
      "cell_type": "markdown",
      "metadata": {
        "id": "view-in-github",
        "colab_type": "text"
      },
      "source": [
        "<a href=\"https://colab.research.google.com/github/ChintzRuparel/Computer-Vision/blob/main/Experiment6.ipynb\" target=\"_parent\"><img src=\"https://colab.research.google.com/assets/colab-badge.svg\" alt=\"Open In Colab\"/></a>"
      ]
    },
    {
      "cell_type": "markdown",
      "source": [
        "# Computer Vision EXP 6\n",
        "   **Chintan Ruparel**\n",
        "\n",
        "  **C086**\n",
        "\n",
        "  **C1**\n",
        "\n",
        "  Aim : To apply warping on given image using transformation matrix."
      ],
      "metadata": {
        "id": "x1SLJ2mVZMNC"
      }
    },
    {
      "cell_type": "code",
      "execution_count": 1,
      "metadata": {
        "id": "H8d8wKhkYpQt"
      },
      "outputs": [],
      "source": [
        "#For mathematical caculations.\n",
        "import numpy as np\n",
        "\n",
        "#To plot the image.\n",
        "import matplotlib.pyplot as plt\n",
        "\n",
        "#Computer vision version 2.\n",
        "import cv2\n",
        "\n",
        "#Read image\n",
        "from skimage.io import imread"
      ]
    },
    {
      "cell_type": "code",
      "source": [
        "# Steps\n",
        "# Determine feature descriptor using ORP - key points of image 1 and 2\n",
        "# Match both the image keypoints\n",
        "# Know the relation of the key points after matching by determining transformation matrix\n",
        "\n",
        "image1 = cv2.imread('book1.jpg')\n",
        "image2 = cv2.imread('book2.jpg')\n",
        "\n",
        "image1_g = cv2.cvtColor(image1,cv2.COLOR_BGR2GRAY)\n",
        "image2_g = cv2.cvtColor(image2,cv2.COLOR_BGR2GRAY)\n"
      ],
      "metadata": {
        "id": "8QlC0__DZ9j4"
      },
      "execution_count": 4,
      "outputs": []
    },
    {
      "cell_type": "code",
      "source": [
        "height,width = image2_g.shape\n",
        "orb_detector  =cv2.ORB_create(5000)\n",
        "k1,d1 = orb_detector.detectAndCompute(image1_g,None)\n",
        "k2,d2 = orb_detector.detectAndCompute(image2_g,None)\n",
        "matcher  =cv2.BFMatcher(cv2.NORM_HAMMING,crossCheck=True)\n",
        "matches= matcher.match(d1,d2)\n",
        "no_matches"
      ],
      "metadata": {
        "id": "XDjoutx8avti"
      },
      "execution_count": 2,
      "outputs": []
    }
  ]
}