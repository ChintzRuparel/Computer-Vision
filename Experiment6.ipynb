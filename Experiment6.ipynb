{
  "nbformat": 4,
  "nbformat_minor": 0,
  "metadata": {
    "colab": {
      "provenance": [],
      "authorship_tag": "ABX9TyPQ0RGzJo5XZJUH0f/+I2Ev",
      "include_colab_link": true
    },
    "kernelspec": {
      "name": "python3",
      "display_name": "Python 3"
    },
    "language_info": {
      "name": "python"
    }
  },
  "cells": [
    {
      "cell_type": "markdown",
      "metadata": {
        "id": "view-in-github",
        "colab_type": "text"
      },
      "source": [
        "<a href=\"https://colab.research.google.com/github/ChintzRuparel/Computer-Vision/blob/main/Experiment6.ipynb\" target=\"_parent\"><img src=\"https://colab.research.google.com/assets/colab-badge.svg\" alt=\"Open In Colab\"/></a>"
      ]
    },
    {
      "cell_type": "markdown",
      "source": [
        "# Computer Vision EXP 6\n",
        "   **Chintan Ruparel**\n",
        "\n",
        "  **C086**\n",
        "\n",
        "  **C1**\n",
        "\n",
        "  Aim : To apply warping on given image using transformation matrix."
      ],
      "metadata": {
        "id": "x1SLJ2mVZMNC"
      }
    },
    {
      "cell_type": "code",
      "execution_count": 1,
      "metadata": {
        "id": "H8d8wKhkYpQt"
      },
      "outputs": [],
      "source": [
        "#For mathematical caculations.\n",
        "import numpy as np\n",
        "\n",
        "#To plot the image.\n",
        "import matplotlib.pyplot as plt\n",
        "\n",
        "#Computer vision version 2.\n",
        "import cv2\n",
        "\n",
        "#Read image\n",
        "from skimage.io import imread"
      ]
    }
  ]
}